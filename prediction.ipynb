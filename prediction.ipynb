{
 "cells": [
  {
   "cell_type": "code",
   "execution_count": 1,
   "metadata": {},
   "outputs": [],
   "source": [
    "# Step 1: Import Libraries and Load the Model\n",
    "import numpy as np\n",
    "import tensorflow as tf\n",
    "from tensorflow.keras.datasets import imdb\n",
    "from tensorflow.keras.preprocessing import sequence\n",
    "from tensorflow.keras.models import load_model"
   ]
  },
  {
   "cell_type": "code",
   "execution_count": 2,
   "metadata": {},
   "outputs": [],
   "source": [
    "\n",
    "# Load the IMDB dataset word index\n",
    "word_index = imdb.get_word_index()\n",
    "reverse_word_index = {value: key for key, value in word_index.items()}"
   ]
  },
  {
   "cell_type": "code",
   "execution_count": 5,
   "metadata": {},
   "outputs": [
    {
     "name": "stderr",
     "output_type": "stream",
     "text": [
      "WARNING:absl:Compiled the loaded model, but the compiled metrics have yet to be built. `model.compile_metrics` will be empty until you train or evaluate the model.\n"
     ]
    },
    {
     "data": {
      "text/html": [
       "<pre style=\"white-space:pre;overflow-x:auto;line-height:normal;font-family:Menlo,'DejaVu Sans Mono',consolas,'Courier New',monospace\"><span style=\"font-weight: bold\">Model: \"sequential_1\"</span>\n",
       "</pre>\n"
      ],
      "text/plain": [
       "\u001b[1mModel: \"sequential_1\"\u001b[0m\n"
      ]
     },
     "metadata": {},
     "output_type": "display_data"
    },
    {
     "data": {
      "text/html": [
       "<pre style=\"white-space:pre;overflow-x:auto;line-height:normal;font-family:Menlo,'DejaVu Sans Mono',consolas,'Courier New',monospace\">┏━━━━━━━━━━━━━━━━━━━━━━━━━━━━━━━━━┳━━━━━━━━━━━━━━━━━━━━━━━━┳━━━━━━━━━━━━━━━┓\n",
       "┃<span style=\"font-weight: bold\"> Layer (type)                    </span>┃<span style=\"font-weight: bold\"> Output Shape           </span>┃<span style=\"font-weight: bold\">       Param # </span>┃\n",
       "┡━━━━━━━━━━━━━━━━━━━━━━━━━━━━━━━━━╇━━━━━━━━━━━━━━━━━━━━━━━━╇━━━━━━━━━━━━━━━┩\n",
       "│ embedding_1 (<span style=\"color: #0087ff; text-decoration-color: #0087ff\">Embedding</span>)         │ (<span style=\"color: #00af00; text-decoration-color: #00af00\">32</span>, <span style=\"color: #00af00; text-decoration-color: #00af00\">500</span>, <span style=\"color: #00af00; text-decoration-color: #00af00\">128</span>)         │     <span style=\"color: #00af00; text-decoration-color: #00af00\">1,280,000</span> │\n",
       "├─────────────────────────────────┼────────────────────────┼───────────────┤\n",
       "│ simple_rnn_1 (<span style=\"color: #0087ff; text-decoration-color: #0087ff\">SimpleRNN</span>)        │ (<span style=\"color: #00af00; text-decoration-color: #00af00\">32</span>, <span style=\"color: #00af00; text-decoration-color: #00af00\">128</span>)              │        <span style=\"color: #00af00; text-decoration-color: #00af00\">32,896</span> │\n",
       "├─────────────────────────────────┼────────────────────────┼───────────────┤\n",
       "│ dense_1 (<span style=\"color: #0087ff; text-decoration-color: #0087ff\">Dense</span>)                 │ (<span style=\"color: #00af00; text-decoration-color: #00af00\">32</span>, <span style=\"color: #00af00; text-decoration-color: #00af00\">1</span>)                │           <span style=\"color: #00af00; text-decoration-color: #00af00\">129</span> │\n",
       "└─────────────────────────────────┴────────────────────────┴───────────────┘\n",
       "</pre>\n"
      ],
      "text/plain": [
       "┏━━━━━━━━━━━━━━━━━━━━━━━━━━━━━━━━━┳━━━━━━━━━━━━━━━━━━━━━━━━┳━━━━━━━━━━━━━━━┓\n",
       "┃\u001b[1m \u001b[0m\u001b[1mLayer (type)                   \u001b[0m\u001b[1m \u001b[0m┃\u001b[1m \u001b[0m\u001b[1mOutput Shape          \u001b[0m\u001b[1m \u001b[0m┃\u001b[1m \u001b[0m\u001b[1m      Param #\u001b[0m\u001b[1m \u001b[0m┃\n",
       "┡━━━━━━━━━━━━━━━━━━━━━━━━━━━━━━━━━╇━━━━━━━━━━━━━━━━━━━━━━━━╇━━━━━━━━━━━━━━━┩\n",
       "│ embedding_1 (\u001b[38;5;33mEmbedding\u001b[0m)         │ (\u001b[38;5;34m32\u001b[0m, \u001b[38;5;34m500\u001b[0m, \u001b[38;5;34m128\u001b[0m)         │     \u001b[38;5;34m1,280,000\u001b[0m │\n",
       "├─────────────────────────────────┼────────────────────────┼───────────────┤\n",
       "│ simple_rnn_1 (\u001b[38;5;33mSimpleRNN\u001b[0m)        │ (\u001b[38;5;34m32\u001b[0m, \u001b[38;5;34m128\u001b[0m)              │        \u001b[38;5;34m32,896\u001b[0m │\n",
       "├─────────────────────────────────┼────────────────────────┼───────────────┤\n",
       "│ dense_1 (\u001b[38;5;33mDense\u001b[0m)                 │ (\u001b[38;5;34m32\u001b[0m, \u001b[38;5;34m1\u001b[0m)                │           \u001b[38;5;34m129\u001b[0m │\n",
       "└─────────────────────────────────┴────────────────────────┴───────────────┘\n"
      ]
     },
     "metadata": {},
     "output_type": "display_data"
    },
    {
     "data": {
      "text/html": [
       "<pre style=\"white-space:pre;overflow-x:auto;line-height:normal;font-family:Menlo,'DejaVu Sans Mono',consolas,'Courier New',monospace\"><span style=\"font-weight: bold\"> Total params: </span><span style=\"color: #00af00; text-decoration-color: #00af00\">1,313,027</span> (5.01 MB)\n",
       "</pre>\n"
      ],
      "text/plain": [
       "\u001b[1m Total params: \u001b[0m\u001b[38;5;34m1,313,027\u001b[0m (5.01 MB)\n"
      ]
     },
     "metadata": {},
     "output_type": "display_data"
    },
    {
     "data": {
      "text/html": [
       "<pre style=\"white-space:pre;overflow-x:auto;line-height:normal;font-family:Menlo,'DejaVu Sans Mono',consolas,'Courier New',monospace\"><span style=\"font-weight: bold\"> Trainable params: </span><span style=\"color: #00af00; text-decoration-color: #00af00\">1,313,025</span> (5.01 MB)\n",
       "</pre>\n"
      ],
      "text/plain": [
       "\u001b[1m Trainable params: \u001b[0m\u001b[38;5;34m1,313,025\u001b[0m (5.01 MB)\n"
      ]
     },
     "metadata": {},
     "output_type": "display_data"
    },
    {
     "data": {
      "text/html": [
       "<pre style=\"white-space:pre;overflow-x:auto;line-height:normal;font-family:Menlo,'DejaVu Sans Mono',consolas,'Courier New',monospace\"><span style=\"font-weight: bold\"> Non-trainable params: </span><span style=\"color: #00af00; text-decoration-color: #00af00\">0</span> (0.00 B)\n",
       "</pre>\n"
      ],
      "text/plain": [
       "\u001b[1m Non-trainable params: \u001b[0m\u001b[38;5;34m0\u001b[0m (0.00 B)\n"
      ]
     },
     "metadata": {},
     "output_type": "display_data"
    },
    {
     "data": {
      "text/html": [
       "<pre style=\"white-space:pre;overflow-x:auto;line-height:normal;font-family:Menlo,'DejaVu Sans Mono',consolas,'Courier New',monospace\"><span style=\"font-weight: bold\"> Optimizer params: </span><span style=\"color: #00af00; text-decoration-color: #00af00\">2</span> (12.00 B)\n",
       "</pre>\n"
      ],
      "text/plain": [
       "\u001b[1m Optimizer params: \u001b[0m\u001b[38;5;34m2\u001b[0m (12.00 B)\n"
      ]
     },
     "metadata": {},
     "output_type": "display_data"
    }
   ],
   "source": [
    "# Load the pre-trained model with ReLU activation\n",
    "model = load_model('simple_rnn_imdb.h5')\n",
    "model.summary()"
   ]
  },
  {
   "cell_type": "code",
   "execution_count": 7,
   "metadata": {},
   "outputs": [
    {
     "data": {
      "text/plain": [
       "[array([[-0.10288712, -0.05926294,  0.00453094, ..., -0.01674622,\n",
       "         -0.01082413, -0.02383335],\n",
       "        [-0.04313905, -0.0387031 ,  0.00867817, ..., -0.04444627,\n",
       "          0.05000323, -0.07390396],\n",
       "        [-0.05106089,  0.02865584,  0.0795036 , ..., -0.04143056,\n",
       "          0.00830422, -0.02221541],\n",
       "        ...,\n",
       "        [ 0.10184164, -0.12203757, -0.21901128, ..., -0.00684964,\n",
       "         -0.03827134,  0.15170358],\n",
       "        [-0.0129901 ,  0.07910792,  0.07768073, ...,  0.03058396,\n",
       "          0.02894652, -0.07745814],\n",
       "        [ 0.02970016, -0.16773145, -0.05176399, ..., -0.05118287,\n",
       "         -0.15883204,  0.19155426]], dtype=float32),\n",
       " array([[-0.11621448, -0.12061654, -0.12799746, ...,  0.12998174,\n",
       "         -0.01688115, -0.06895801],\n",
       "        [-0.10182454, -0.13554643,  0.14372249, ...,  0.02690019,\n",
       "         -0.3265124 ,  0.11291253],\n",
       "        [-0.05484389, -0.14393309, -0.02123013, ..., -0.09859325,\n",
       "          0.26978213,  0.04936767],\n",
       "        ...,\n",
       "        [ 0.0768612 , -0.10535619, -0.06122404, ...,  0.16053477,\n",
       "          0.03916642,  0.10070293],\n",
       "        [ 0.04727544, -0.04053381,  0.09970022, ...,  0.0751317 ,\n",
       "         -0.10083393, -0.00846871],\n",
       "        [ 0.05205766,  0.14498074, -0.12640335, ...,  0.00545544,\n",
       "          0.03864676, -0.1286486 ]], dtype=float32),\n",
       " array([[-0.05441023,  0.14292657,  0.20369908, ..., -0.02617558,\n",
       "         -0.08097696,  0.05416838],\n",
       "        [-0.13286152, -0.11782075,  0.0380876 , ...,  0.0505595 ,\n",
       "          0.02254485, -0.10087217],\n",
       "        [-0.08522266, -0.11640652,  0.02955179, ..., -0.10604407,\n",
       "          0.21113862,  0.05179371],\n",
       "        ...,\n",
       "        [ 0.01042774,  0.02778408,  0.03134166, ..., -0.04842199,\n",
       "         -0.16065295,  0.03567897],\n",
       "        [-0.15463655, -0.06111063, -0.05833802, ...,  0.00643564,\n",
       "         -0.11539625, -0.03412757],\n",
       "        [ 0.0228908 ,  0.00590274,  0.19439143, ...,  0.06777087,\n",
       "          0.297648  , -0.15731974]], dtype=float32),\n",
       " array([ 0.01150405, -0.01271954,  0.01523494,  0.00209985, -0.03883876,\n",
       "         0.01377489, -0.01510226,  0.01774305, -0.01026041, -0.02280543,\n",
       "        -0.01265946,  0.00184521, -0.00638556, -0.01921145, -0.00533896,\n",
       "        -0.03272402,  0.01488806, -0.00729074, -0.04616807, -0.02725794,\n",
       "         0.01032854, -0.01561372,  0.00495735, -0.01708651,  0.01006479,\n",
       "         0.00057502,  0.01055909, -0.01446327, -0.02370124, -0.00850835,\n",
       "        -0.03570671, -0.00718709,  0.01209862, -0.01120077, -0.01269216,\n",
       "        -0.00343246, -0.01571106, -0.01149255,  0.01744825,  0.01073289,\n",
       "        -0.00096092, -0.01169476,  0.00481942,  0.01623994,  0.0118672 ,\n",
       "        -0.0268676 ,  0.00819545, -0.01171965, -0.01234475,  0.00626741,\n",
       "        -0.03157243, -0.01148313,  0.01386863, -0.02789321,  0.01111996,\n",
       "        -0.01313355, -0.01772612, -0.02326156, -0.00141315, -0.00660267,\n",
       "        -0.01400042,  0.02395015, -0.00144043,  0.00384952,  0.02795148,\n",
       "         0.02014711,  0.02962407,  0.01291447,  0.00419689, -0.01078654,\n",
       "        -0.00435352, -0.01609316,  0.01331645,  0.02026908,  0.00513515,\n",
       "         0.02455381,  0.04212558, -0.00909778,  0.02198043,  0.00318354,\n",
       "         0.00568857, -0.01331564,  0.01437711,  0.01484616,  0.01161444,\n",
       "         0.01040514,  0.00438857,  0.01888064, -0.01438436,  0.00590445,\n",
       "         0.02324698,  0.01481857,  0.01152306, -0.00596742, -0.01304973,\n",
       "        -0.0078131 ,  0.0070671 ,  0.01967721, -0.01148814, -0.00615427,\n",
       "        -0.01469271, -0.02066556, -0.00699313, -0.01225596, -0.02820432,\n",
       "        -0.01358327,  0.01398167, -0.00441463, -0.02096635,  0.02102122,\n",
       "        -0.00842634, -0.00513935, -0.00739917, -0.0060153 , -0.01147145,\n",
       "        -0.01596706,  0.003404  , -0.01146729, -0.00910837, -0.01249254,\n",
       "        -0.00899186,  0.00940601,  0.02202276,  0.03734903,  0.01029454,\n",
       "        -0.0065226 ,  0.05978938, -0.01028979], dtype=float32),\n",
       " array([[-0.13691545],\n",
       "        [ 0.20554723],\n",
       "        [-0.2878166 ],\n",
       "        [ 0.08261773],\n",
       "        [ 0.07627087],\n",
       "        [-0.5183928 ],\n",
       "        [-0.05001692],\n",
       "        [-0.08612344],\n",
       "        [-0.21107219],\n",
       "        [ 0.0305442 ],\n",
       "        [ 0.22394533],\n",
       "        [-0.51381165],\n",
       "        [ 0.01260627],\n",
       "        [ 0.10852609],\n",
       "        [ 0.19481055],\n",
       "        [ 0.03861704],\n",
       "        [-0.19857797],\n",
       "        [ 0.10666742],\n",
       "        [-0.16110528],\n",
       "        [-0.19065072],\n",
       "        [ 0.03487954],\n",
       "        [ 0.20415786],\n",
       "        [-0.00203987],\n",
       "        [-0.20271645],\n",
       "        [-0.00943762],\n",
       "        [ 0.35204706],\n",
       "        [ 0.00954551],\n",
       "        [ 0.10756551],\n",
       "        [ 0.16537185],\n",
       "        [-0.3681897 ],\n",
       "        [-0.12256976],\n",
       "        [ 0.06546497],\n",
       "        [ 0.17788567],\n",
       "        [-0.21947391],\n",
       "        [ 1.0095963 ],\n",
       "        [ 0.04485286],\n",
       "        [ 0.1803287 ],\n",
       "        [ 0.11208959],\n",
       "        [ 0.1758379 ],\n",
       "        [ 0.83102906],\n",
       "        [ 0.42212662],\n",
       "        [ 0.1096536 ],\n",
       "        [-0.11445922],\n",
       "        [ 0.01991255],\n",
       "        [ 0.27086005],\n",
       "        [ 0.17988569],\n",
       "        [-0.62756586],\n",
       "        [ 0.1273316 ],\n",
       "        [ 0.14407964],\n",
       "        [-0.0583065 ],\n",
       "        [-0.03065652],\n",
       "        [ 0.15355803],\n",
       "        [ 0.22371864],\n",
       "        [-0.23843662],\n",
       "        [-0.18646766],\n",
       "        [ 0.16616714],\n",
       "        [-0.5498424 ],\n",
       "        [-0.02022337],\n",
       "        [-0.06077501],\n",
       "        [ 0.16242595],\n",
       "        [-0.23363309],\n",
       "        [-0.5592813 ],\n",
       "        [-0.19953753],\n",
       "        [ 0.13182648],\n",
       "        [ 0.25985673],\n",
       "        [ 0.5944986 ],\n",
       "        [ 0.08770655],\n",
       "        [ 0.14302568],\n",
       "        [ 0.2035123 ],\n",
       "        [-0.06257295],\n",
       "        [-0.2982438 ],\n",
       "        [-0.612936  ],\n",
       "        [ 0.05228658],\n",
       "        [ 0.7925973 ],\n",
       "        [ 0.27987668],\n",
       "        [-0.15299958],\n",
       "        [ 0.06694759],\n",
       "        [ 0.21810871],\n",
       "        [ 0.13820751],\n",
       "        [ 0.06655695],\n",
       "        [ 0.0442084 ],\n",
       "        [ 0.17646804],\n",
       "        [-0.10945857],\n",
       "        [ 0.0342866 ],\n",
       "        [ 0.00506355],\n",
       "        [ 0.04456156],\n",
       "        [ 0.06093783],\n",
       "        [ 0.11152991],\n",
       "        [-0.10676748],\n",
       "        [-0.04402785],\n",
       "        [ 0.08608226],\n",
       "        [ 0.4728719 ],\n",
       "        [ 0.99761355],\n",
       "        [ 0.04435284],\n",
       "        [ 0.11687811],\n",
       "        [-0.07852502],\n",
       "        [ 0.16491409],\n",
       "        [ 0.61449075],\n",
       "        [ 0.10700086],\n",
       "        [ 0.06092203],\n",
       "        [ 0.10826547],\n",
       "        [-0.13245901],\n",
       "        [ 0.59111553],\n",
       "        [-0.18177658],\n",
       "        [-0.13235767],\n",
       "        [-0.12170935],\n",
       "        [ 0.15032199],\n",
       "        [-0.00381638],\n",
       "        [ 0.01653769],\n",
       "        [ 0.25103486],\n",
       "        [ 0.05000272],\n",
       "        [ 0.18707141],\n",
       "        [-0.11980761],\n",
       "        [ 0.44261625],\n",
       "        [-0.25044098],\n",
       "        [ 0.1743342 ],\n",
       "        [-0.25367102],\n",
       "        [-0.02818782],\n",
       "        [ 0.08505309],\n",
       "        [-0.09842037],\n",
       "        [-0.07033577],\n",
       "        [-0.23038138],\n",
       "        [ 0.194886  ],\n",
       "        [ 0.20814018],\n",
       "        [ 0.20652492],\n",
       "        [ 0.21624133],\n",
       "        [-0.11502985],\n",
       "        [ 0.01830073]], dtype=float32),\n",
       " array([1.2625636], dtype=float32)]"
      ]
     },
     "execution_count": 7,
     "metadata": {},
     "output_type": "execute_result"
    }
   ],
   "source": [
    "model.get_weights()"
   ]
  },
  {
   "cell_type": "code",
   "execution_count": 9,
   "metadata": {},
   "outputs": [],
   "source": [
    "# Step 2: Helper Functions\n",
    "# Function to decode reviews\n",
    "def decode_review(encoded_review):\n",
    "    return ' '.join([reverse_word_index.get(i - 3, '?') for i in encoded_review])\n",
    "\n",
    "# Function to preprocess user input\n",
    "def preprocess_text(text):\n",
    "    words = text.lower().split()\n",
    "    encoded_review = [word_index.get(word, 2) + 3 for word in words]\n",
    "    padded_review = sequence.pad_sequences([encoded_review], maxlen=500)\n",
    "    return padded_review"
   ]
  },
  {
   "cell_type": "code",
   "execution_count": 11,
   "metadata": {},
   "outputs": [],
   "source": [
    "### Prediction  function\n",
    "\n",
    "def predict_sentiment(review):\n",
    "    preprocessed_input=preprocess_text(review)\n",
    "\n",
    "    prediction=model.predict(preprocessed_input)\n",
    "\n",
    "    sentiment = 'Positive' if prediction[0][0] > 0.5 else 'Negative'\n",
    "    \n",
    "    return sentiment, prediction[0][0]\n",
    "\n"
   ]
  },
  {
   "cell_type": "code",
   "execution_count": 13,
   "metadata": {},
   "outputs": [
    {
     "name": "stdout",
     "output_type": "stream",
     "text": [
      "\u001b[1m1/1\u001b[0m \u001b[32m━━━━━━━━━━━━━━━━━━━━\u001b[0m\u001b[37m\u001b[0m \u001b[1m0s\u001b[0m 38ms/step\n",
      "Review: This movie was fantastic! The acting was great and the plot was thrilling.\n",
      "Sentiment: Negative\n",
      "Prediction Score: 0.09391859173774719\n"
     ]
    }
   ],
   "source": [
    "# Step 4: User Input and Prediction\n",
    "# Example review for prediction\n",
    "example_review = \"This movie was fantastic! The acting was great and the plot was thrilling.\"\n",
    "\n",
    "sentiment,score=predict_sentiment(example_review)\n",
    "\n",
    "print(f'Review: {example_review}')\n",
    "print(f'Sentiment: {sentiment}')\n",
    "print(f'Prediction Score: {score}')"
   ]
  },
  {
   "cell_type": "code",
   "execution_count": null,
   "metadata": {},
   "outputs": [],
   "source": []
  },
  {
   "cell_type": "code",
   "execution_count": null,
   "metadata": {},
   "outputs": [],
   "source": []
  },
  {
   "cell_type": "code",
   "execution_count": null,
   "metadata": {},
   "outputs": [],
   "source": []
  },
  {
   "cell_type": "code",
   "execution_count": null,
   "metadata": {},
   "outputs": [],
   "source": []
  }
 ],
 "metadata": {
  "kernelspec": {
   "display_name": "venv",
   "language": "python",
   "name": "python3"
  },
  "language_info": {
   "codemirror_mode": {
    "name": "ipython",
    "version": 3
   },
   "file_extension": ".py",
   "mimetype": "text/x-python",
   "name": "python",
   "nbconvert_exporter": "python",
   "pygments_lexer": "ipython3",
   "version": "3.12.0"
  }
 },
 "nbformat": 4,
 "nbformat_minor": 2
}
